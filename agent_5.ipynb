{
 "cells": [
  {
   "cell_type": "markdown",
   "id": "221a1780",
   "metadata": {},
   "source": [
    "# Agent"
   ]
  },
  {
   "cell_type": "code",
   "execution_count": 5,
   "id": "0d56607b",
   "metadata": {},
   "outputs": [
    {
     "name": "stdout",
     "output_type": "stream",
     "text": [
      "Looking in indexes: https://pypi.tuna.tsinghua.edu.cn/simple\n",
      "Collecting langchainhub\n",
      "  Downloading https://pypi.tuna.tsinghua.edu.cn/packages/35/63/40328157ddee807991f2f1992c2ad88f479b2472dc9e40d08ccf10700735/langchainhub-0.1.21-py3-none-any.whl (5.2 kB)\n",
      "Requirement already satisfied: requests<3,>=2 in d:\\projects\\linlili_project\\.linlili\\lib\\site-packages (from langchainhub) (2.31.0)\n",
      "Requirement already satisfied: packaging<25,>=23.2 in d:\\projects\\linlili_project\\.linlili\\lib\\site-packages (from langchainhub) (23.2)\n",
      "Collecting types-requests<3.0.0.0,>=2.31.0.2\n",
      "  Downloading https://pypi.tuna.tsinghua.edu.cn/packages/2a/20/9a227ea57c1285986c4cf78400d0a91615d25b24e257fd9e2969606bdfae/types_requests-2.32.4.20250913-py3-none-any.whl (20 kB)\n",
      "Requirement already satisfied: urllib3<3,>=1.21.1 in d:\\projects\\linlili_project\\.linlili\\lib\\site-packages (from requests<3,>=2->langchainhub) (2.2.1)\n",
      "Requirement already satisfied: charset-normalizer<4,>=2 in d:\\projects\\linlili_project\\.linlili\\lib\\site-packages (from requests<3,>=2->langchainhub) (3.3.2)\n",
      "Requirement already satisfied: certifi>=2017.4.17 in d:\\projects\\linlili_project\\.linlili\\lib\\site-packages (from requests<3,>=2->langchainhub) (2024.2.2)\n",
      "Requirement already satisfied: idna<4,>=2.5 in d:\\projects\\linlili_project\\.linlili\\lib\\site-packages (from requests<3,>=2->langchainhub) (3.7)\n",
      "Installing collected packages: types-requests, langchainhub\n",
      "Successfully installed langchainhub-0.1.21 types-requests-2.32.4.20250913\n"
     ]
    },
    {
     "name": "stderr",
     "output_type": "stream",
     "text": [
      "WARNING: You are using pip version 21.2.4; however, version 25.2 is available.\n",
      "You should consider upgrading via the 'D:\\Projects\\Linlili_project\\.Linlili\\Scripts\\python.exe -m pip install --upgrade pip' command.\n"
     ]
    }
   ],
   "source": [
    "!pip install langchainhub"
   ]
  },
  {
   "cell_type": "code",
   "execution_count": null,
   "id": "c2cd7d82",
   "metadata": {},
   "outputs": [],
   "source": [
    "from langchain_openai import ChatOpenAI\n",
    "from langchain.schema import HumanMessage\n",
    "from langchain.tools import BaseTool\n",
    "from langchain import hub\n",
    "\n",
    "from langchain.agents import create_structured_chat_agent\n",
    "from langchain.agents import AgentExecutor\n",
    "from langchain.memory import ConversationBufferMemory\n",
    "\n",
    "\n",
    "key = \"sk-3Y2fAEoDopIzz19EC0zGehuwEUNtvmlRS4k9Hv7vGhwB993N\"\n",
    "url = \"https://api.aigc369.com/v1\""
   ]
  },
  {
   "cell_type": "code",
   "execution_count": 2,
   "id": "aec896ae",
   "metadata": {},
   "outputs": [
    {
     "name": "stdout",
     "output_type": "stream",
     "text": [
      "content='这句话一共有16个字。' response_metadata={'token_usage': {'completion_tokens': 11, 'prompt_tokens': 42, 'total_tokens': 53}, 'model_name': 'gpt-3.5-turbo', 'system_fingerprint': 'fp_0165350fbb', 'finish_reason': 'stop', 'logprobs': None} id='run-fae61481-9930-4e27-bce5-a471d7edcdad-0'\n"
     ]
    }
   ],
   "source": [
    "model = ChatOpenAI(api_key=key,base_url=url,temperature=0)\n",
    "print(model.invoke([HumanMessage(content=\"'君不见黄河之水天上来奔流到海不复回'，这句话的字数是多少？\")]))\n"
   ]
  },
  {
   "cell_type": "code",
   "execution_count": 3,
   "id": "7dc4beaa",
   "metadata": {},
   "outputs": [],
   "source": [
    "class TextLengthTool(BaseTool):\n",
    "    name = \"文本字数计算工具\"\n",
    "    description = \"当你被要求计算文本的字数时，使用此工具\"\n",
    "\n",
    "    def _run(self,text):\n",
    "        return len(text)\n",
    "    \n",
    "tools = [TextLengthTool()]"
   ]
  },
  {
   "cell_type": "code",
   "execution_count": 4,
   "id": "12df6541",
   "metadata": {},
   "outputs": [
    {
     "name": "stderr",
     "output_type": "stream",
     "text": [
      "d:\\Projects\\Linlili_project\\.Linlili\\lib\\site-packages\\langchain\\hub.py:86: DeprecationWarning: The `langchainhub sdk` is deprecated.\n",
      "Please use the `langsmith sdk` instead:\n",
      "  pip install langsmith\n",
      "Use the `pull_prompt` method.\n",
      "  res_dict = client.pull_repo(owner_repo_commit)\n"
     ]
    },
    {
     "data": {
      "text/plain": [
       "ChatPromptTemplate(input_variables=['agent_scratchpad', 'input', 'tool_names', 'tools'], input_types={'chat_history': typing.List[typing.Union[langchain_core.messages.ai.AIMessage, langchain_core.messages.human.HumanMessage, langchain_core.messages.chat.ChatMessage, langchain_core.messages.system.SystemMessage, langchain_core.messages.function.FunctionMessage, langchain_core.messages.tool.ToolMessage]]}, metadata={'lc_hub_owner': 'hwchase17', 'lc_hub_repo': 'structured-chat-agent', 'lc_hub_commit_hash': 'ea510f70a5872eb0f41a4e3b7bb004d5711dc127adee08329c664c6c8be5f13c'}, messages=[SystemMessagePromptTemplate(prompt=PromptTemplate(input_variables=['tool_names', 'tools'], template='Respond to the human as helpfully and accurately as possible. You have access to the following tools:\\n\\n{tools}\\n\\nUse a json blob to specify a tool by providing an action key (tool name) and an action_input key (tool input).\\n\\nValid \"action\" values: \"Final Answer\" or {tool_names}\\n\\nProvide only ONE action per $JSON_BLOB, as shown:\\n\\n```\\n{{\\n  \"action\": $TOOL_NAME,\\n  \"action_input\": $INPUT\\n}}\\n```\\n\\nFollow this format:\\n\\nQuestion: input question to answer\\nThought: consider previous and subsequent steps\\nAction:\\n```\\n$JSON_BLOB\\n```\\nObservation: action result\\n... (repeat Thought/Action/Observation N times)\\nThought: I know what to respond\\nAction:\\n```\\n{{\\n  \"action\": \"Final Answer\",\\n  \"action_input\": \"Final response to human\"\\n}}\\n\\nBegin! Reminder to ALWAYS respond with a valid json blob of a single action. Use tools if necessary. Respond directly if appropriate. Format is Action:```$JSON_BLOB```then Observation')), MessagesPlaceholder(variable_name='chat_history', optional=True), HumanMessagePromptTemplate(prompt=PromptTemplate(input_variables=['agent_scratchpad', 'input'], template='{input}\\n\\n{agent_scratchpad}\\n (reminder to respond in a JSON blob no matter what)'))])"
      ]
     },
     "execution_count": 4,
     "metadata": {},
     "output_type": "execute_result"
    }
   ],
   "source": [
    "prompt = hub.pull(\"hwchase17/structured-chat-agent\")\n",
    "prompt"
   ]
  },
  {
   "cell_type": "code",
   "execution_count": 6,
   "id": "9fcadb08",
   "metadata": {},
   "outputs": [],
   "source": [
    "agent = create_structured_chat_agent(\n",
    "    llm = model,\n",
    "    tools = tools,\n",
    "    prompt = prompt\n",
    ")\n",
    "\n",
    "memory = ConversationBufferMemory(\n",
    "    memory_key=\"chat_history\",\n",
    "    return_messages= True\n",
    ")\n"
   ]
  },
  {
   "cell_type": "code",
   "execution_count": null,
   "id": "05fdde67",
   "metadata": {},
   "outputs": [],
   "source": [
    "# 实际调用工具的是agent_executor\n",
    "agent_executor = AgentExecutor.from_agent_and_tools(\n",
    "    agent = agent,\n",
    "    tools = tools,\n",
    "    memory = memory,\n",
    "    verbose = True, \n",
    "    handle_parsing_errors =True  # 当出现解析错误；让大模型自行推理错误\n",
    ") "
   ]
  },
  {
   "cell_type": "code",
   "execution_count": 9,
   "id": "a771920d",
   "metadata": {},
   "outputs": [
    {
     "name": "stdout",
     "output_type": "stream",
     "text": [
      "\n",
      "\n",
      "\u001b[1m> Entering new AgentExecutor chain...\u001b[0m\n",
      "\u001b[32;1m\u001b[1;3m{\n",
      "  \"action\": \"文本字数计算工具\",\n",
      "  \"action_input\": {\n",
      "    \"text\": \"君不见黄河之水天上来奔流到海不复回\"\n",
      "  }\n",
      "}\u001b[0m\u001b[36;1m\u001b[1;3m17\u001b[0m\u001b[32;1m\u001b[1;3m{\n",
      "  \"action\": \"Final Answer\",\n",
      "  \"action_input\": \"这句话的字数是17\"\n",
      "}\u001b[0m\n",
      "\n",
      "\u001b[1m> Finished chain.\u001b[0m\n"
     ]
    },
    {
     "data": {
      "text/plain": [
       "{'input': \"'君不见黄河之水天上来奔流到海不复回'，这句话的字数是多少？\",\n",
       " 'chat_history': [HumanMessage(content=\"'君不见黄河之水天上来奔流到海不复回'，这句话的字数是多少？\"),\n",
       "  AIMessage(content='这句话的字数是17')],\n",
       " 'output': '这句话的字数是17'}"
      ]
     },
     "execution_count": 9,
     "metadata": {},
     "output_type": "execute_result"
    }
   ],
   "source": [
    "agent_executor.invoke({\"input\": \"'君不见黄河之水天上来奔流到海不复回'，这句话的字数是多少？\"})"
   ]
  },
  {
   "cell_type": "code",
   "execution_count": 10,
   "id": "29a46f55",
   "metadata": {},
   "outputs": [
    {
     "name": "stdout",
     "output_type": "stream",
     "text": [
      "\n",
      "\n",
      "\u001b[1m> Entering new AgentExecutor chain...\u001b[0m\n",
      "\u001b[32;1m\u001b[1;3m{\n",
      "  \"action\": \"Final Answer\",\n",
      "  \"action_input\": \"地球的重力是地球吸引物体向地心的力量，是由地球的质量和物体之间的距禿决定的。\"\n",
      "}\u001b[0m\n",
      "\n",
      "\u001b[1m> Finished chain.\u001b[0m\n"
     ]
    },
    {
     "data": {
      "text/plain": [
       "{'input': '请你充当我的物理老师，告诉我什么是地球的重力',\n",
       " 'chat_history': [HumanMessage(content=\"'君不见黄河之水天上来奔流到海不复回'，这句话的字数是多少？\"),\n",
       "  AIMessage(content='这句话的字数是17'),\n",
       "  HumanMessage(content='请你充当我的物理老师，告诉我什么是地球的重力'),\n",
       "  AIMessage(content='地球的重力是地球吸引物体向地心的力量，是由地球的质量和物体之间的距禿决定的。')],\n",
       " 'output': '地球的重力是地球吸引物体向地心的力量，是由地球的质量和物体之间的距禿决定的。'}"
      ]
     },
     "execution_count": 10,
     "metadata": {},
     "output_type": "execute_result"
    }
   ],
   "source": [
    "agent_executor.invoke({\"input\": \"请你充当我的物理老师，告诉我什么是地球的重力\"})"
   ]
  },
  {
   "cell_type": "markdown",
   "id": "7485c44a",
   "metadata": {},
   "source": [
    "# 内置Tool -Python解释器\n",
    "程序辅助语言模型PAL"
   ]
  },
  {
   "cell_type": "code",
   "execution_count": 12,
   "id": "cdd430a6",
   "metadata": {},
   "outputs": [],
   "source": [
    "from langchain_openai import ChatOpenAI\n",
    "\n",
    "from langchain_experimental.tools import PythonREPLTool\n",
    "from langchain_experimental.agents.agent_toolkits import create_python_agent"
   ]
  },
  {
   "cell_type": "code",
   "execution_count": null,
   "id": "46cb4463",
   "metadata": {},
   "outputs": [],
   "source": [
    "model = ChatOpenAI(model='gpt-3.5-turbo',temperature=0,\n",
    "                   api_key=key,base_url = url)\n",
    "\n",
    "tools = [PythonREPLTool()]\n",
    "\n",
    "# 专门用于创建执行python代码的agent执行器的函数\n",
    "agent_executor = create_python_agent(\n",
    "    llm=model,\n",
    "    tool = PythonREPLTool(),\n",
    "    verbose=True,\n",
    "    agent_executor_kwargs={\"handle_parsing_errors\": True}\n",
    ")"
   ]
  },
  {
   "cell_type": "code",
   "execution_count": 21,
   "id": "02b062b6",
   "metadata": {},
   "outputs": [
    {
     "name": "stdout",
     "output_type": "stream",
     "text": [
      "args 元组: (10, 20, 30)\n",
      "kwargs 字典: {'name': 'Tom', 'age': 25}\n"
     ]
    }
   ],
   "source": [
    "# kwargs 是 Python 中用于接收任意数量关键字参数的机制，让你在函数调用时更灵活、可扩展。\n",
    "# 星号单杆管位置，双杆管关键字；单杆变元组，双杆变字典。\n",
    "def demo(*args, **kwargs):\n",
    "    print(\"args 元组:\", args)\n",
    "    print(\"kwargs 字典:\", kwargs)\n",
    "\n",
    "demo(10, 20, 30, name=\"Tom\", age=25)\n"
   ]
  },
  {
   "cell_type": "code",
   "execution_count": 14,
   "id": "66980a46",
   "metadata": {},
   "outputs": [
    {
     "data": {
      "text/plain": [
       "AgentExecutor(verbose=True, agent=ZeroShotAgent(llm_chain=LLMChain(prompt=PromptTemplate(input_variables=['agent_scratchpad', 'input'], template='You are an agent designed to write and execute python code to answer questions.\\nYou have access to a python REPL, which you can use to execute python code.\\nIf you get an error, debug your code and try again.\\nOnly use the output of your code to answer the question. \\nYou might know the answer without running any code, but you should still run the code to get the answer.\\nIf it does not seem like you can write code to answer the question, just return \"I don\\'t know\" as the answer.\\n\\n\\nPython_REPL: A Python shell. Use this to execute python commands. Input should be a valid python command. If you want to see the output of a value, you should print it out with `print(...)`.\\n\\nUse the following format:\\n\\nQuestion: the input question you must answer\\nThought: you should always think about what to do\\nAction: the action to take, should be one of [Python_REPL]\\nAction Input: the input to the action\\nObservation: the result of the action\\n... (this Thought/Action/Action Input/Observation can repeat N times)\\nThought: I now know the final answer\\nFinal Answer: the final answer to the original input question\\n\\nBegin!\\n\\nQuestion: {input}\\nThought:{agent_scratchpad}'), llm=ChatOpenAI(client=<openai.resources.chat.completions.Completions object at 0x0000024FF4263CD0>, async_client=<openai.resources.chat.completions.AsyncCompletions object at 0x0000024FF429D1B0>, temperature=0.0, openai_api_key=SecretStr('**********'), openai_api_base='https://api.aigc369.com/v1', openai_proxy='')), output_parser=MRKLOutputParser(), allowed_tools=['Python_REPL']), tools=[PythonREPLTool()], handle_parsing_errors=True)"
      ]
     },
     "execution_count": 14,
     "metadata": {},
     "output_type": "execute_result"
    }
   ],
   "source": [
    "agent_executor"
   ]
  },
  {
   "cell_type": "code",
   "execution_count": 18,
   "id": "2a67ede5",
   "metadata": {},
   "outputs": [
    {
     "name": "stdout",
     "output_type": "stream",
     "text": [
      "\n",
      "\n",
      "\u001b[1m> Entering new AgentExecutor chain...\u001b[0m\n",
      "\u001b[32;1m\u001b[1;3mWe can use Python to calculate 7 to the power of 2.3.\n",
      "Action: Python_REPL\n",
      "Action Input: print(7 ** 2.3)\u001b[0m\n",
      "Observation: \u001b[36;1m\u001b[1;3m87.84670816352883\n",
      "\u001b[0m\n",
      "Thought:\u001b[32;1m\u001b[1;3mThe result of 7 to the power of 2.3 is approximately 87.85.\n",
      "Final Answer: 87.85\u001b[0m\n",
      "\n",
      "\u001b[1m> Finished chain.\u001b[0m\n"
     ]
    },
    {
     "data": {
      "text/plain": [
       "{'input': '7的2.3次方是多少', 'output': '87.85'}"
      ]
     },
     "execution_count": 18,
     "metadata": {},
     "output_type": "execute_result"
    }
   ],
   "source": [
    "agent_executor.invoke({\"input\":\"7的2.3次方是多少\"})"
   ]
  },
  {
   "cell_type": "code",
   "execution_count": 19,
   "id": "1ec2276a",
   "metadata": {},
   "outputs": [
    {
     "name": "stdout",
     "output_type": "stream",
     "text": [
      "\n",
      "\n",
      "\u001b[1m> Entering new AgentExecutor chain...\u001b[0m\n",
      "\u001b[32;1m\u001b[1;3m我们可以编写一个函数来生成斐波那契数列，然后找到第12个数字。\n",
      "Action: Python_REPL\n",
      "Action Input: \n",
      "```python\n",
      "def fibonacci(n):\n",
      "    if n <= 1:\n",
      "        return n\n",
      "    else:\n",
      "        return fibonacci(n-1) + fibonacci(n-2)\n",
      "\n",
      "fibonacci(12)\n",
      "```\u001b[0m\n",
      "Observation: \u001b[36;1m\u001b[1;3m\u001b[0m\n",
      "Thought:\u001b[32;1m\u001b[1;3m我们得到了第12个斐波那契数列的数字。\n",
      "Final Answer: 144\u001b[0m\n",
      "\n",
      "\u001b[1m> Finished chain.\u001b[0m\n"
     ]
    },
    {
     "data": {
      "text/plain": [
       "{'input': '第12个斐波那契数列的数字是多少？', 'output': '144'}"
      ]
     },
     "execution_count": 19,
     "metadata": {},
     "output_type": "execute_result"
    }
   ],
   "source": [
    "agent_executor.invoke({\"input\": \"第12个斐波那契数列的数字是多少？\"})\n"
   ]
  },
  {
   "cell_type": "markdown",
   "id": "a6d2c717",
   "metadata": {},
   "source": [
    "# 内置Tool 数据分析"
   ]
  },
  {
   "cell_type": "code",
   "execution_count": 20,
   "id": "349a68cf",
   "metadata": {},
   "outputs": [],
   "source": [
    "from langchain_experimental.agents.agent_toolkits import create_csv_agent\n",
    "from langchain_openai import ChatOpenAI\n",
    "\n",
    "key = \"sk-3Y2fAEoDopIzz19EC0zGehuwEUNtvmlRS4k9Hv7vGhwB993N\"\n",
    "url = \"https://api.aigc369.com/v1\""
   ]
  },
  {
   "cell_type": "code",
   "execution_count": 22,
   "id": "cf1eaaa7",
   "metadata": {},
   "outputs": [
    {
     "data": {
      "text/plain": [
       "AgentExecutor(verbose=True, agent=RunnableAgent(runnable=RunnableAssign(mapper={\n",
       "  agent_scratchpad: RunnableLambda(lambda x: format_log_to_str(x['intermediate_steps']))\n",
       "})\n",
       "| PromptTemplate(input_variables=['agent_scratchpad', 'input'], partial_variables={'df_head': '|    |    price |   area |   bedrooms |   bathrooms |   stories | mainroad   | guestroom   | basement   | hotwaterheating   | airconditioning   |   parking | prefarea   | furnishingstatus   |\\n|---:|---------:|-------:|-----------:|------------:|----------:|:-----------|:------------|:-----------|:------------------|:------------------|----------:|:-----------|:-------------------|\\n|  0 | 13300000 |   7420 |          4 |           2 |         3 | yes        | no          | no         | no                | yes               |         2 | yes        | furnished          |\\n|  1 | 12250000 |   8960 |          4 |           4 |         4 | yes        | no          | no         | no                | yes               |         3 | no         | furnished          |\\n|  2 | 12250000 |   9960 |          3 |           2 |         2 | yes        | no          | yes        | no                | no                |         2 | yes        | semi-furnished     |\\n|  3 | 12215000 |   7500 |          4 |           2 |         2 | yes        | no          | yes        | no                | yes               |         3 | yes        | furnished          |\\n|  4 | 11410000 |   7420 |          4 |           1 |         2 | yes        | yes         | yes        | no                | yes               |         2 | no         | furnished          |', 'tools': 'python_repl_ast: A Python shell. Use this to execute python commands. Input should be a valid python command. When using this tool, sometimes output is abbreviated - make sure it does not look abbreviated before using it in your answer.', 'tool_names': 'python_repl_ast'}, template='\\nYou are working with a pandas dataframe in Python. The name of the dataframe is `df`.\\nYou should use the tools below to answer the question posed of you:\\n\\n{tools}\\n\\nUse the following format:\\n\\nQuestion: the input question you must answer\\nThought: you should always think about what to do\\nAction: the action to take, should be one of [{tool_names}]\\nAction Input: the input to the action\\nObservation: the result of the action\\n... (this Thought/Action/Action Input/Observation can repeat N times)\\nThought: I now know the final answer\\nFinal Answer: the final answer to the original input question\\n\\n\\nThis is the result of `print(df.head())`:\\n{df_head}\\n\\nBegin!\\nQuestion: {input}\\n{agent_scratchpad}')\n",
       "| RunnableBinding(bound=ChatOpenAI(client=<openai.resources.chat.completions.Completions object at 0x0000024FF433B310>, async_client=<openai.resources.chat.completions.AsyncCompletions object at 0x0000024FF429F790>, temperature=0.0, openai_api_key=SecretStr('**********'), openai_api_base='https://api.aigc369.com/v1', openai_proxy=''), kwargs={'stop': ['\\nObservation']})\n",
       "| ReActSingleInputOutputParser(), input_keys_arg=['input'], return_keys_arg=['output'], stream_runnable=True), tools=[PythonAstREPLTool(locals={'df':         price  area  bedrooms  bathrooms  stories mainroad guestroom basement  \\\n",
       "0    13300000  7420         4          2        3      yes        no       no   \n",
       "1    12250000  8960         4          4        4      yes        no       no   \n",
       "2    12250000  9960         3          2        2      yes        no      yes   \n",
       "3    12215000  7500         4          2        2      yes        no      yes   \n",
       "4    11410000  7420         4          1        2      yes       yes      yes   \n",
       "..        ...   ...       ...        ...      ...      ...       ...      ...   \n",
       "540   1820000  3000         2          1        1      yes        no      yes   \n",
       "541   1767150  2400         3          1        1       no        no       no   \n",
       "542   1750000  3620         2          1        1      yes        no       no   \n",
       "543   1750000  2910         3          1        1       no        no       no   \n",
       "544   1750000  3850         3          1        2      yes        no       no   \n",
       "\n",
       "    hotwaterheating airconditioning  parking prefarea furnishingstatus  \n",
       "0                no             yes        2      yes        furnished  \n",
       "1                no             yes        3       no        furnished  \n",
       "2                no              no        2      yes   semi-furnished  \n",
       "3                no             yes        3      yes        furnished  \n",
       "4                no             yes        2       no        furnished  \n",
       "..              ...             ...      ...      ...              ...  \n",
       "540              no              no        2       no      unfurnished  \n",
       "541              no              no        0       no   semi-furnished  \n",
       "542              no              no        0       no      unfurnished  \n",
       "543              no              no        0       no        furnished  \n",
       "544              no              no        0       no      unfurnished  \n",
       "\n",
       "[545 rows x 13 columns]})], handle_parsing_errors=True)"
      ]
     },
     "execution_count": 22,
     "metadata": {},
     "output_type": "execute_result"
    }
   ],
   "source": [
    "agent_executor = create_csv_agent(\n",
    "    llm = ChatOpenAI(model = \"gpt-3.5-turbo\",temperature=0,\n",
    "                     api_key=key,base_url=url),\n",
    "    path = r\"D:\\Projects\\Linlili_project\\house_price.csv\",\n",
    "    verbose = True,\n",
    "    agent_executor_kwargs = {\"handle_parsing_errors\":True}\n",
    ")\n",
    "\n",
    "agent_executor"
   ]
  },
  {
   "cell_type": "code",
   "execution_count": 24,
   "id": "95596e1a",
   "metadata": {},
   "outputs": [
    {
     "name": "stdout",
     "output_type": "stream",
     "text": [
      "\n",
      "\n",
      "\u001b[1m> Entering new AgentExecutor chain...\u001b[0m\n",
      "\u001b[32;1m\u001b[1;3mThought: To find out how many rows are in the dataframe, I need to check the shape of the dataframe.\n",
      "Action: python_repl_ast\n",
      "Action Input: df.shape[0]\u001b[0m\u001b[36;1m\u001b[1;3m545\u001b[0m\u001b[32;1m\u001b[1;3m我现在知道了数据集有545行\n",
      "Final Answer: 数据集有545行\u001b[0m\n",
      "\n",
      "\u001b[1m> Finished chain.\u001b[0m\n"
     ]
    },
    {
     "data": {
      "text/plain": [
       "{'input': '数据集有多少行？用中文回答', 'output': '数据集有545行'}"
      ]
     },
     "execution_count": 24,
     "metadata": {},
     "output_type": "execute_result"
    }
   ],
   "source": [
    "agent_executor.invoke({\"input\":\"数据集有多少行？用中文回答\"})"
   ]
  },
  {
   "cell_type": "code",
   "execution_count": null,
   "id": "f32db88a",
   "metadata": {},
   "outputs": [
    {
     "name": "stdout",
     "output_type": "stream",
     "text": [
      "\n",
      "\n",
      "\u001b[1m> Entering new AgentExecutor chain...\u001b[0m\n",
      "\u001b[32;1m\u001b[1;3mThought: We need to identify the variables present in the dataset.\n",
      "Action: Use python_repl_ast to list the columns of the dataframe.\n",
      "Action Input: df.columns\u001b[0mUse python_repl_ast to list the columns of the dataframe. is not a valid tool, try one of [python_repl_ast].\u001b[32;1m\u001b[1;3mI will use python_repl_ast to list the columns of the dataframe.\n",
      "Action: python_repl_ast\n",
      "Action Input: df.columns\u001b[0m\u001b[36;1m\u001b[1;3mIndex(['price', 'area', 'bedrooms', 'bathrooms', 'stories', 'mainroad',\n",
      "       'guestroom', 'basement', 'hotwaterheating', 'airconditioning',\n",
      "       'parking', 'prefarea', 'furnishingstatus'],\n",
      "      dtype='object')\u001b[0m\u001b[32;1m\u001b[1;3m数据集包含的变量有：price, area, bedrooms, bathrooms, stories, mainroad, guestroom, basement, hotwaterheating, airconditioning, parking, prefarea, furnishingstatus\n",
      "\n",
      "Final Answer: price, area, bedrooms, bathrooms, stories, mainroad, guestroom, basement, hotwaterheating, airconditioning, parking, prefarea, furnishingstatus\u001b[0m\n",
      "\n",
      "\u001b[1m> Finished chain.\u001b[0m\n"
     ]
    },
    {
     "data": {
      "text/plain": [
       "{'input': '数据集包含哪些变量？请用中文回复',\n",
       " 'output': 'price, area, bedrooms, bathrooms, stories, mainroad, guestroom, basement, hotwaterheating, airconditioning, parking, prefarea, furnishingstatus'}"
      ]
     },
     "metadata": {},
     "output_type": "display_data"
    }
   ],
   "source": [
    "agent_executor.invoke({\"input\":\"数据集包含哪些变量？请用中文回复\"})"
   ]
  },
  {
   "cell_type": "code",
   "execution_count": 26,
   "id": "7ca89e8b",
   "metadata": {},
   "outputs": [
    {
     "name": "stdout",
     "output_type": "stream",
     "text": [
      "\n",
      "\n",
      "\u001b[1m> Entering new AgentExecutor chain...\u001b[0m\n",
      "\u001b[32;1m\u001b[1;3mThought: To find the average price of all houses in the dataset, we need to calculate the mean of the 'price' column.\n",
      "Action: python_repl_ast\n",
      "Action Input: df['price'].mean()\u001b[0m\u001b[36;1m\u001b[1;3m4766729.247706422\u001b[0m\u001b[32;1m\u001b[1;3m我现在知道了最终答案\n",
      "Final Answer: 所有房子的价格平均值是4766729.25\u001b[0m\n",
      "\n",
      "\u001b[1m> Finished chain.\u001b[0m\n"
     ]
    },
    {
     "data": {
      "text/plain": [
       "{'input': '数据集里，所有房子的价格平均值是多少？用中文回复', 'output': '所有房子的价格平均值是4766729.25'}"
      ]
     },
     "execution_count": 26,
     "metadata": {},
     "output_type": "execute_result"
    }
   ],
   "source": [
    "agent_executor.invoke({\"input\": \"数据集里，所有房子的价格平均值是多少？用中文回复\"})"
   ]
  },
  {
   "cell_type": "code",
   "execution_count": 27,
   "id": "5a347baa",
   "metadata": {},
   "outputs": [
    {
     "name": "stdout",
     "output_type": "stream",
     "text": [
      "\n",
      "\n",
      "\u001b[1m> Entering new AgentExecutor chain...\u001b[0m\n",
      "\u001b[32;1m\u001b[1;3mThought: We need to find out the unique values in the 'furnishingstatus' column and understand what they represent in Chinese.\n",
      "\n",
      "Action: python_repl_ast\n",
      "Action Input: df['furnishingstatus'].unique()\u001b[0m\u001b[36;1m\u001b[1;3m['furnished' 'semi-furnished' 'unfurnished']\u001b[0m\u001b[32;1m\u001b[1;3m我们需要回答的问题是数据集里所有房子的装修状态包含三种种类：'furnished'（已装修）、'semi-furnished'（半装修）、'unfurnished'（未装修）。\u001b[0mInvalid Format: Missing 'Action:' after 'Thought:\u001b[32;1m\u001b[1;3mI made a mistake in the format, let me correct it.\n",
      "\n",
      "Thought: We need to find out the unique values in the 'furnishingstatus' column and understand what they represent in Chinese.\n",
      "\n",
      "Action: python_repl_ast\n",
      "Action Input: df['furnishingstatus'].unique()\u001b[0m\u001b[36;1m\u001b[1;3m['furnished' 'semi-furnished' 'unfurnished']\u001b[0m\u001b[32;1m\u001b[1;3m我们需要回答的问题是数据集里所有房子的装修状态包含三种种类：'furnished'（已装修）、'semi-furnished'（半装修）、'unfurnished'（未装修）。\n",
      "\n",
      "Final Answer: 装修状态包含三种种类：'furnished'（已装修）、'semi-furnished'（半装修）、'unfurnished'（未装修）。\u001b[0m\n",
      "\n",
      "\u001b[1m> Finished chain.\u001b[0m\n"
     ]
    },
    {
     "data": {
      "text/plain": [
       "{'input': '数据集里，所有房子的装修状态包含哪些种类？你认为它们具体表示什么意思？用中文回复',\n",
       " 'output': \"装修状态包含三种种类：'furnished'（已装修）、'semi-furnished'（半装修）、'unfurnished'（未装修）。\"}"
      ]
     },
     "execution_count": 27,
     "metadata": {},
     "output_type": "execute_result"
    }
   ],
   "source": [
    "agent_executor.invoke({\"input\": \"数据集里，所有房子的装修状态包含哪些种类？你认为它们具体表示什么意思？用中文回复\"})\n"
   ]
  },
  {
   "cell_type": "markdown",
   "id": "6e3d08a1",
   "metadata": {},
   "source": [
    "# 工具箱"
   ]
  },
  {
   "cell_type": "code",
   "execution_count": 28,
   "id": "73bf140a",
   "metadata": {},
   "outputs": [],
   "source": [
    "from langchain.tools import BaseTool, Tool\n",
    "from langchain_experimental.agents.agent_toolkits import create_csv_agent, create_python_agent\n",
    "from langchain_experimental.tools import PythonREPLTool\n",
    "\n",
    "from langchain_openai import ChatOpenAI\n",
    "\n",
    "from langchain import hub\n",
    "from langchain.agents import create_structured_chat_agent, AgentExecutor\n",
    "from langchain.memory import ConversationBufferMemory"
   ]
  },
  {
   "cell_type": "code",
   "execution_count": 29,
   "id": "f64ac2a3",
   "metadata": {},
   "outputs": [],
   "source": [
    "class TextLengthTool(BaseTool):\n",
    "    name = \"文本字数计算工具\"\n",
    "    description = \"当你需要计算文本包含的字数时，使用此工具\"\n",
    "\n",
    "    def _run(self,text):\n",
    "        return len(text)"
   ]
  },
  {
   "cell_type": "code",
   "execution_count": 32,
   "id": "25f813e2",
   "metadata": {},
   "outputs": [],
   "source": [
    "python_agent_executor = create_python_agent(\n",
    "    llm = model,\n",
    "    tool = PythonREPLTool(),\n",
    "    verbose = True,\n",
    "    agent_executor_kwargs=({\"handle_pasring_errors\":True})\n",
    ")"
   ]
  },
  {
   "cell_type": "code",
   "execution_count": 36,
   "id": "be2e563c",
   "metadata": {},
   "outputs": [],
   "source": [
    "csv_agent_executor = create_csv_agent(\n",
    "    llm = model,\n",
    "    path = r\"D:\\Projects\\Linlili_project\\house_price.csv\",\n",
    "    verbose = True,\n",
    "    agent_executor_kwargs = {\"handle_parsing_errors\": True}\n",
    ")"
   ]
  },
  {
   "cell_type": "code",
   "execution_count": 37,
   "id": "91d65c95",
   "metadata": {},
   "outputs": [],
   "source": [
    "tools = [\n",
    "    Tool(\n",
    "        name=\"Python代码工具\",\n",
    "        description = \"\"\"当你需要借助Python解释器时，使用这个工具。\n",
    "        用自然语言把要求给这个工具，它会生成Python代码并返回代码执行的结果。\"\"\",\n",
    "        func = python_agent_executor.invoke\n",
    "    ),\n",
    "    Tool(\n",
    "        name=\"CSV分析工具\",\n",
    "        description=\"\"\"当你需要回答有关house_price.csv文件的问题时，使用这个工具。\n",
    "        它接受完整的问题作为输入，在使用Pandas库计算后，返回答案。\"\"\",\n",
    "        func = csv_agent_executor.invoke\n",
    "    ),\n",
    "    TextLengthTool()\n",
    "]"
   ]
  },
  {
   "cell_type": "code",
   "execution_count": 38,
   "id": "3cbcbafe",
   "metadata": {},
   "outputs": [
    {
     "name": "stderr",
     "output_type": "stream",
     "text": [
      "d:\\Projects\\Linlili_project\\.Linlili\\lib\\site-packages\\langchain\\hub.py:86: DeprecationWarning: The `langchainhub sdk` is deprecated.\n",
      "Please use the `langsmith sdk` instead:\n",
      "  pip install langsmith\n",
      "Use the `pull_prompt` method.\n",
      "  res_dict = client.pull_repo(owner_repo_commit)\n"
     ]
    },
    {
     "data": {
      "text/plain": [
       "ChatPromptTemplate(input_variables=['agent_scratchpad', 'input', 'tool_names', 'tools'], input_types={'chat_history': typing.List[typing.Union[langchain_core.messages.ai.AIMessage, langchain_core.messages.human.HumanMessage, langchain_core.messages.chat.ChatMessage, langchain_core.messages.system.SystemMessage, langchain_core.messages.function.FunctionMessage, langchain_core.messages.tool.ToolMessage]]}, metadata={'lc_hub_owner': 'hwchase17', 'lc_hub_repo': 'structured-chat-agent', 'lc_hub_commit_hash': 'ea510f70a5872eb0f41a4e3b7bb004d5711dc127adee08329c664c6c8be5f13c'}, messages=[SystemMessagePromptTemplate(prompt=PromptTemplate(input_variables=['tool_names', 'tools'], template='Respond to the human as helpfully and accurately as possible. You have access to the following tools:\\n\\n{tools}\\n\\nUse a json blob to specify a tool by providing an action key (tool name) and an action_input key (tool input).\\n\\nValid \"action\" values: \"Final Answer\" or {tool_names}\\n\\nProvide only ONE action per $JSON_BLOB, as shown:\\n\\n```\\n{{\\n  \"action\": $TOOL_NAME,\\n  \"action_input\": $INPUT\\n}}\\n```\\n\\nFollow this format:\\n\\nQuestion: input question to answer\\nThought: consider previous and subsequent steps\\nAction:\\n```\\n$JSON_BLOB\\n```\\nObservation: action result\\n... (repeat Thought/Action/Observation N times)\\nThought: I know what to respond\\nAction:\\n```\\n{{\\n  \"action\": \"Final Answer\",\\n  \"action_input\": \"Final response to human\"\\n}}\\n\\nBegin! Reminder to ALWAYS respond with a valid json blob of a single action. Use tools if necessary. Respond directly if appropriate. Format is Action:```$JSON_BLOB```then Observation')), MessagesPlaceholder(variable_name='chat_history', optional=True), HumanMessagePromptTemplate(prompt=PromptTemplate(input_variables=['agent_scratchpad', 'input'], template='{input}\\n\\n{agent_scratchpad}\\n (reminder to respond in a JSON blob no matter what)'))])"
      ]
     },
     "execution_count": 38,
     "metadata": {},
     "output_type": "execute_result"
    }
   ],
   "source": [
    "memory = ConversationBufferMemory(\n",
    "    memory_key=\"chat_history\",\n",
    "    return_messages= True\n",
    ")\n",
    "\n",
    "prompt = hub.pull(\"hwchase17/structured-chat-agent\")\n",
    "prompt"
   ]
  },
  {
   "cell_type": "code",
   "execution_count": 39,
   "id": "7eeca840",
   "metadata": {},
   "outputs": [],
   "source": [
    "agent = create_structured_chat_agent(\n",
    "    llm = model,\n",
    "    tools = tools,\n",
    "    prompt = prompt \n",
    ")"
   ]
  },
  {
   "cell_type": "code",
   "execution_count": 40,
   "id": "f79bb441",
   "metadata": {},
   "outputs": [],
   "source": [
    "agent_executor = AgentExecutor.from_agent_and_tools(\n",
    "    agent=agent,\n",
    "    tools = tools,\n",
    "    memory=memory,\n",
    "    verbose = True,\n",
    "    handle_parsing_errors = True\n",
    ")"
   ]
  },
  {
   "cell_type": "code",
   "execution_count": 41,
   "id": "c60417c8",
   "metadata": {},
   "outputs": [
    {
     "name": "stdout",
     "output_type": "stream",
     "text": [
      "\n",
      "\n",
      "\u001b[1m> Entering new AgentExecutor chain...\u001b[0m\n",
      "\u001b[32;1m\u001b[1;3mAction:\n",
      "```\n",
      "{\n",
      "  \"action\": \"Python代码工具\",\n",
      "  \"action_input\": \"fibonacci(8)\"\n",
      "}\n",
      "```\u001b[0m\n",
      "\n",
      "\u001b[1m> Entering new AgentExecutor chain...\u001b[0m\n",
      "\u001b[32;1m\u001b[1;3mWe need to calculate the 8th Fibonacci number.\n",
      "Action: Python_REPL\n",
      "Action Input: def fibonacci(n):\n",
      "                    if n <= 1:\n",
      "                        return n\n",
      "                    else:\n",
      "                        return fibonacci(n-1) + fibonacci(n-2)\n",
      "                fibonacci(8)\u001b[0m\n",
      "Observation: \u001b[36;1m\u001b[1;3mIndentationError('unindent does not match any outer indentation level', ('<string>', 6, 29, '                fibonacci(8)\\n', 6, -1))\u001b[0m\n",
      "Thought:\u001b[32;1m\u001b[1;3mThere was an error in the code due to incorrect indentation. Let me fix it.\n",
      "Action: Python_REPL\n",
      "Action Input: def fibonacci(n):\n",
      "                    if n <= 1:\n",
      "                        return n\n",
      "                    else:\n",
      "                        return fibonacci(n-1) + fibonacci(n-2)\n",
      "                print(fibonacci(8))\u001b[0m\n",
      "Observation: \u001b[36;1m\u001b[1;3mIndentationError('unindent does not match any outer indentation level', ('<string>', 6, 36, '                print(fibonacci(8))\\n', 6, -1))\u001b[0m\n",
      "Thought:\u001b[32;1m\u001b[1;3mThe error is due to incorrect indentation. I need to fix it by aligning the print statement properly.\n",
      "Action: Python_REPL\n",
      "Action Input: def fibonacci(n):\n",
      "                    if n <= 1:\n",
      "                        return n\n",
      "                    else:\n",
      "                        return fibonacci(n-1) + fibonacci(n-2)\n",
      "                print(fibonacci(8))\u001b[0m\n",
      "Observation: \u001b[36;1m\u001b[1;3mIndentationError('unindent does not match any outer indentation level', ('<string>', 6, 36, '                print(fibonacci(8))\\n', 6, -1))\u001b[0m\n",
      "Thought:\u001b[32;1m\u001b[1;3mThe error persists. I need to correct the indentation of the print statement.\n",
      "Action: Python_REPL\n",
      "Action Input: def fibonacci(n):\n",
      "                    if n <= 1:\n",
      "                        return n\n",
      "                    else:\n",
      "                        return fibonacci(n-1) + fibonacci(n-2)\n",
      "print(fibonacci(8))\u001b[0m\n",
      "Observation: \u001b[36;1m\u001b[1;3m21\n",
      "\u001b[0m\n",
      "Thought:\u001b[32;1m\u001b[1;3mI now know the final answer.\n",
      "Final Answer: 21\u001b[0m\n",
      "\n",
      "\u001b[1m> Finished chain.\u001b[0m\n",
      "\u001b[36;1m\u001b[1;3m{'input': 'fibonacci(8)', 'output': '21'}\u001b[0m\u001b[32;1m\u001b[1;3mAction:\n",
      "```\n",
      "{\n",
      "  \"action\": \"Final Answer\",\n",
      "  \"action_input\": 21\n",
      "}\n",
      "```\u001b[0m\n",
      "\n",
      "\u001b[1m> Finished chain.\u001b[0m\n"
     ]
    },
    {
     "data": {
      "text/plain": [
       "{'input': '第8个斐波那契数列的数字是多少？',\n",
       " 'chat_history': [HumanMessage(content='第8个斐波那契数列的数字是多少？'),\n",
       "  AIMessage(content='21')],\n",
       " 'output': 21}"
      ]
     },
     "execution_count": 41,
     "metadata": {},
     "output_type": "execute_result"
    }
   ],
   "source": [
    "agent_executor.invoke({\"input\": \"第8个斐波那契数列的数字是多少？\"})"
   ]
  },
  {
   "cell_type": "code",
   "execution_count": 42,
   "id": "e07ae035",
   "metadata": {},
   "outputs": [
    {
     "name": "stdout",
     "output_type": "stream",
     "text": [
      "\n",
      "\n",
      "\u001b[1m> Entering new AgentExecutor chain...\u001b[0m\n",
      "\u001b[32;1m\u001b[1;3m{\n",
      "  \"action\": \"CSV分析工具\",\n",
      "  \"action_input\": {\n",
      "    \"tool_input\": \"What is the average price of all houses in the dataset?\"\n",
      "  }\n",
      "}\u001b[0m\n",
      "\n",
      "\u001b[1m> Entering new AgentExecutor chain...\u001b[0m\n",
      "\u001b[32;1m\u001b[1;3mThought: To find the average price of all houses in the dataset, we need to calculate the mean of the 'price' column in the dataframe.\n",
      "\n",
      "Action: python_repl_ast\n",
      "Action Input: df['price'].mean()\u001b[0m\u001b[36;1m\u001b[1;3m4766729.247706422\u001b[0m\u001b[32;1m\u001b[1;3mThe average price of all houses in the dataset is approximately $4,766,729.25.\n",
      "\n",
      "Final Answer: $4,766,729.25\u001b[0m\n",
      "\n",
      "\u001b[1m> Finished chain.\u001b[0m\n",
      "\u001b[33;1m\u001b[1;3m{'input': 'What is the average price of all houses in the dataset?', 'output': '$4,766,729.25'}\u001b[0m\u001b[32;1m\u001b[1;3m{\n",
      "  \"action\": \"Final Answer\",\n",
      "  \"action_input\": \"房子的平均价格是$4,766,729.25\"\n",
      "}\u001b[0m\n",
      "\n",
      "\u001b[1m> Finished chain.\u001b[0m\n"
     ]
    },
    {
     "data": {
      "text/plain": [
       "{'input': 'house_price数据集里，所有房子的价格平均值是多少？用中文回答',\n",
       " 'chat_history': [HumanMessage(content='第8个斐波那契数列的数字是多少？'),\n",
       "  AIMessage(content='21'),\n",
       "  HumanMessage(content='house_price数据集里，所有房子的价格平均值是多少？用中文回答'),\n",
       "  AIMessage(content='房子的平均价格是$4,766,729.25')],\n",
       " 'output': '房子的平均价格是$4,766,729.25'}"
      ]
     },
     "execution_count": 42,
     "metadata": {},
     "output_type": "execute_result"
    }
   ],
   "source": [
    "agent_executor.invoke({\"input\": \"house_price数据集里，所有房子的价格平均值是多少？用中文回答\"})"
   ]
  },
  {
   "cell_type": "code",
   "execution_count": 43,
   "id": "b8da4c65",
   "metadata": {},
   "outputs": [
    {
     "name": "stdout",
     "output_type": "stream",
     "text": [
      "\n",
      "\n",
      "\u001b[1m> Entering new AgentExecutor chain...\u001b[0m\n",
      "\u001b[32;1m\u001b[1;3m{\n",
      "  \"action\": \"文本字数计算工具\",\n",
      "  \"action_input\": {\n",
      "    \"text\": \"君不见黄河之水天上来奔流到海不复回\"\n",
      "  }\n",
      "}\u001b[0m\u001b[38;5;200m\u001b[1;3m17\u001b[0m\u001b[32;1m\u001b[1;3m{\n",
      "  \"action\": \"Final Answer\",\n",
      "  \"action_input\": \"17\"\n",
      "}\u001b[0m\n",
      "\n",
      "\u001b[1m> Finished chain.\u001b[0m\n"
     ]
    },
    {
     "data": {
      "text/plain": [
       "{'input': \"'君不见黄河之水天上来奔流到海不复回'，这句话的字数是多少字？\",\n",
       " 'chat_history': [HumanMessage(content='第8个斐波那契数列的数字是多少？'),\n",
       "  AIMessage(content='21'),\n",
       "  HumanMessage(content='house_price数据集里，所有房子的价格平均值是多少？用中文回答'),\n",
       "  AIMessage(content='房子的平均价格是$4,766,729.25'),\n",
       "  HumanMessage(content=\"'君不见黄河之水天上来奔流到海不复回'，这句话的字数是多少字？\"),\n",
       "  AIMessage(content='17')],\n",
       " 'output': '17'}"
      ]
     },
     "execution_count": 43,
     "metadata": {},
     "output_type": "execute_result"
    }
   ],
   "source": [
    "agent_executor.invoke({\"input\": \"'君不见黄河之水天上来奔流到海不复回'，这句话的字数是多少字？\"})"
   ]
  },
  {
   "cell_type": "code",
   "execution_count": null,
   "id": "306a9edd",
   "metadata": {},
   "outputs": [],
   "source": []
  }
 ],
 "metadata": {
  "kernelspec": {
   "display_name": ".Linlili",
   "language": "python",
   "name": "python3"
  },
  "language_info": {
   "codemirror_mode": {
    "name": "ipython",
    "version": 3
   },
   "file_extension": ".py",
   "mimetype": "text/x-python",
   "name": "python",
   "nbconvert_exporter": "python",
   "pygments_lexer": "ipython3",
   "version": "3.10.2"
  }
 },
 "nbformat": 4,
 "nbformat_minor": 5
}
